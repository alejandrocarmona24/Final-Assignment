{
  "metadata": {
    "kernelspec": {
      "name": "python",
      "display_name": "Pyolite",
      "language": "python"
    },
    "language_info": {
      "codemirror_mode": {
        "name": "python",
        "version": 3
      },
      "file_extension": ".py",
      "mimetype": "text/x-python",
      "name": "python",
      "nbconvert_exporter": "python",
      "pygments_lexer": "ipython3",
      "version": "3.8"
    }
  },
  "nbformat_minor": 4,
  "nbformat": 4,
  "cells": [
    {
      "cell_type": "markdown",
      "source": "<center>\n    <img src=\"https://s3-api.us-geo.objectstorage.softlayer.net/cf-courses-data/CognitiveClass/Logos/organization_logo/organization_logo.png\" width=\"300\" alt=\"cognitiveclass.ai logo\"  />\n</center>\n",
      "metadata": {}
    },
    {
      "cell_type": "markdown",
      "source": "# My Jupiter Notebook IBM Watson Studio",
      "metadata": {}
    },
    {
      "cell_type": "markdown",
      "source": "<b>Miguel Alejandro Martínez Carmona<b>\n",
      "metadata": {}
    },
    {
      "cell_type": "markdown",
      "source": "Current Ocupation: Retail Store Clerk",
      "metadata": {}
    },
    {
      "cell_type": "markdown",
      "source": "Desired Ocupation: Data Scientist",
      "metadata": {}
    },
    {
      "cell_type": "markdown",
      "source": "<i>I am interested in Data Science because it is a rapid growing field, that takes immense colaboration and conveys many different areas of learning that will be enourmously valued in the future.<i>",
      "metadata": {}
    },
    {
      "cell_type": "markdown",
      "source": "### In the next line I am exposing the result of the mathematical operation that divides one hundred three times:",
      "metadata": {}
    },
    {
      "cell_type": "code",
      "source": "100/3",
      "metadata": {},
      "execution_count": null,
      "outputs": [
        {
          "execution_count": 8,
          "output_type": "execute_result",
          "data": {
            "text/plain": "33.333333333333336"
          },
          "metadata": {}
        }
      ]
    },
    {
      "cell_type": "markdown",
      "source": "Follow me on my social media",
      "metadata": {}
    },
    {
      "cell_type": "markdown",
      "source": "\n|instagram|facebook|youtube|\n|---------|--------|-------|\n|https://www.instagram.com/marcarmiguel|facebook profile|![download.jpg](attachment:87803f04-20e7-4389-b517-6342fcb9a352.jpg)|",
      "metadata": {},
      "attachments": {
        "87803f04-20e7-4389-b517-6342fcb9a352.jpg": {
          "image/jpeg": "[encoded data removed]"
        }
      }
    },
    {
      "cell_type": "code",
      "source": "",
      "metadata": {},
      "execution_count": null,
      "outputs": []
    }
  ]
}